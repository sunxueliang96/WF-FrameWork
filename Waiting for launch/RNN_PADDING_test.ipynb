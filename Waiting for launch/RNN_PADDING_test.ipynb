{
  "nbformat": 4,
  "nbformat_minor": 0,
  "metadata": {
    "colab": {
      "name": "RNN_PADDING.ipynb",
      "provenance": [],
      "authorship_tag": "ABX9TyNH6Rg2TEZn68R0uspn/fzy",
      "include_colab_link": true
    },
    "kernelspec": {
      "name": "python3",
      "display_name": "Python 3"
    }
  },
  "cells": [
    {
      "cell_type": "markdown",
      "metadata": {
        "id": "view-in-github",
        "colab_type": "text"
      },
      "source": [
        "<a href=\"https://colab.research.google.com/github/sunxueliang96/WF-FrameWork/blob/master/RNN_PADDING_test.ipynb\" target=\"_parent\"><img src=\"https://colab.research.google.com/assets/colab-badge.svg\" alt=\"Open In Colab\"/></a>"
      ]
    },
    {
      "cell_type": "code",
      "metadata": {
        "id": "jJYnKzOS7rRv",
        "colab_type": "code",
        "colab": {
          "base_uri": "https://localhost:8080/",
          "height": 122
        },
        "outputId": "af427cf8-6dcd-4846-8773-a6b2a92c437d"
      },
      "source": [
        "#Mount Google Drive as folder\n",
        "from google.colab import drive\n",
        "drive.mount('/content/drive', force_remount=True)"
      ],
      "execution_count": 3,
      "outputs": [
        {
          "output_type": "stream",
          "text": [
            "Go to this URL in a browser: https://accounts.google.com/o/oauth2/auth?client_id=947318989803-6bn6qk8qdgf4n4g3pfee6491hc0brc4i.apps.googleusercontent.com&redirect_uri=urn%3aietf%3awg%3aoauth%3a2.0%3aoob&response_type=code&scope=email%20https%3a%2f%2fwww.googleapis.com%2fauth%2fdocs.test%20https%3a%2f%2fwww.googleapis.com%2fauth%2fdrive%20https%3a%2f%2fwww.googleapis.com%2fauth%2fdrive.photos.readonly%20https%3a%2f%2fwww.googleapis.com%2fauth%2fpeopleapi.readonly\n",
            "\n",
            "Enter your authorization code:\n",
            "··········\n",
            "Mounted at /content/drive\n"
          ],
          "name": "stdout"
        }
      ]
    },
    {
      "cell_type": "code",
      "metadata": {
        "id": "FMQNKEZd8BER",
        "colab_type": "code",
        "colab": {
          "base_uri": "https://localhost:8080/",
          "height": 34
        },
        "outputId": "034b8abb-03bc-49fb-e140-5a8c269e1dd2"
      },
      "source": [
        "cd /content/drive/'My Drive'/datasets/no_paded/close_world/walkiebatch"
      ],
      "execution_count": 4,
      "outputs": [
        {
          "output_type": "stream",
          "text": [
            "/content/drive/My Drive/datasets/no_paded/close_world/walkiebatch\n"
          ],
          "name": "stdout"
        }
      ]
    },
    {
      "cell_type": "code",
      "metadata": {
        "id": "VWDv1eaF8IEv",
        "colab_type": "code",
        "colab": {
          "base_uri": "https://localhost:8080/",
          "height": 68
        },
        "outputId": "b407275f-bf2b-4f9d-ee21-11a61f46c8c8"
      },
      "source": [
        "import numpy as np\n",
        "import pickle\n",
        "print('loading data...')\n",
        "with open('X_walkiebatch.pkl','rb') as handle:\n",
        "  X = np.array(pickle.load(handle))\n",
        "with open('y_walkiebatch.pkl','rb') as handle:\n",
        "  y = np.array(pickle.load(handle))\n",
        "print('the shape of X',X.shape)\n",
        "print('the shape of y',y.shape)\n"
      ],
      "execution_count": 5,
      "outputs": [
        {
          "output_type": "stream",
          "text": [
            "loading data...\n",
            "the shape of X (11868,)\n",
            "the shape of y (11868,)\n"
          ],
          "name": "stdout"
        }
      ]
    },
    {
      "cell_type": "code",
      "metadata": {
        "id": "ty30io2L8Xgn",
        "colab_type": "code",
        "colab": {}
      },
      "source": [
        "from keras import Sequential, Model\n",
        "from keras.preprocessing import sequence\n",
        "from keras.layers import Input, LSTM, Dense, RepeatVector, TimeDistributed, Dropout, Masking\n",
        "from keras.layers.core import Activation, Flatten\n",
        "def LSTM_DNN(maxlen,NB_CLASSES):\n",
        "    latent_dim = 256\n",
        "    NB_repeat = 3\n",
        "\n",
        "    model = Sequential() \n",
        "    model.add(Masking(mask_value=0, input_shape=(maxlen,1)))\n",
        "    model.add(LSTM(75))\n",
        "    model.add(RepeatVector(NB_repeat))\n",
        "    model.add(LSTM(50, return_sequences=True))\n",
        "    model.add(TimeDistributed(Dense(maxlen, activation= 'softmax' ))) \n",
        "    model.add(Flatten())\n",
        "    model.add(Dense(128))\n",
        "    model.add(Activation('relu'))\n",
        "    model.add(Dense(256))\n",
        "    model.add(Activation('relu'))\n",
        "    model.add(Dropout(0.5))\n",
        "    model.add(Dense(512))\n",
        "    model.add(Activation('relu'))\n",
        "    model.add(Dense(1024))\n",
        "    model.add(Activation('relu'))\n",
        "    model.add(Dense(512))\n",
        "    model.add(Dropout(0.5))\n",
        "    model.add(Activation('relu'))\n",
        "    model.add(Dense(NB_CLASSES))\n",
        "    model.add(Activation('softmax'))\n",
        "    return model\n",
        "def run_LSTM_DNN(X_train,y_train,X_test,y_test):\n",
        " \n",
        "    print('Pad sequences to ',maxlen)\n",
        "    x_train = X_train[:]\n",
        "    x_test = X_test[:]\n",
        "    x_train = sequence.pad_sequences(x_train, maxlen=maxlen,padding='post',truncating='post')\n",
        "    x_test = sequence.pad_sequences(x_test, maxlen=maxlen,padding='post',truncating='post')\n",
        "    x_train = x_train[:,:,np.newaxis]\n",
        "    x_test = x_test[:,:,np.newaxis]\n",
        "    y_train = np_utils.to_categorical(y_train, NB_CLASSES)\n",
        "    y_test = np_utils.to_categorical(y_test, NB_CLASSES)\n",
        "    print('the shape of x_train',x_train.shape)\n",
        "    print('the shape of y_train',y_train.shape)\n",
        "    print('the shape of x_test',x_test.shape)\n",
        "    print('the shape of y_test',y_test.shape)\n",
        "\n",
        "    model_LSTM_DNN = LSTM_DNN(maxlen,NB_CLASSES)\n",
        "    model_LSTM_DNN.summary()\n",
        "    model_LSTM_DNN.compile(loss='categorical_crossentropy',optimizer='adam',metrics=['accuracy'])#, precision, recall, fmeasure])\n",
        "    history = model_LSTM_DNN.fit(x_train,y_train,batch_size=BATCH_SIZE,epochs=NB_EPOCH,validation_data=(x_test,y_test),verbose=1)\n",
        "    score = model_LSTM_DNN.evaluate(x_test,y_test,verbose=VERBOSE)\n",
        "    #print(score)\n",
        "    return(history.history)"
      ],
      "execution_count": 0,
      "outputs": []
    },
    {
      "cell_type": "code",
      "metadata": {
        "id": "2f4dlw4d8Zyn",
        "colab_type": "code",
        "colab": {
          "base_uri": "https://localhost:8080/",
          "height": 1000
        },
        "outputId": "4afbfe9a-bcbf-469f-f313-a445e083aff2"
      },
      "source": [
        "from sklearn.model_selection import train_test_split\n",
        "from collections import Counter\n",
        "from keras.utils import np_utils\n",
        "import numpy as np\n",
        "\n",
        "print('Average sequence length: {}'.format(np.mean(list(map(len, X)), dtype=int)))\n",
        "maxlen = 5000\n",
        "NB_CLASSES = len(Counter(y).keys())\n",
        "BATCH_SIZE = 63\n",
        "NB_EPOCH = 200\n",
        "print('number of classes is {}'.format(NB_CLASSES))\n",
        "\n",
        "\n",
        "X_train,X_test,y_train,y_test = train_test_split(X,y,test_size=0.3)\n",
        "\n",
        "run_LSTM_DNN(X_train,y_train,X_test,y_test)"
      ],
      "execution_count": 0,
      "outputs": [
        {
          "output_type": "stream",
          "text": [
            "Average sequence length: 4471\n",
            "number of classes is 108\n",
            "Pad sequences to  5000\n",
            "the shape of x_train (8307, 5000, 1)\n",
            "the shape of y_train (8307, 108)\n",
            "the shape of x_test (3561, 5000, 1)\n",
            "the shape of y_test (3561, 108)\n",
            "Model: \"sequential_14\"\n",
            "_________________________________________________________________\n",
            "Layer (type)                 Output Shape              Param #   \n",
            "=================================================================\n",
            "masking_4 (Masking)          (None, 5000, 1)           0         \n",
            "_________________________________________________________________\n",
            "lstm_26 (LSTM)               (None, 75)                23100     \n",
            "_________________________________________________________________\n",
            "repeat_vector_13 (RepeatVect (None, 3, 75)             0         \n",
            "_________________________________________________________________\n",
            "lstm_27 (LSTM)               (None, 3, 50)             25200     \n",
            "_________________________________________________________________\n",
            "time_distributed_12 (TimeDis (None, 3, 5000)           255000    \n",
            "_________________________________________________________________\n",
            "flatten_1 (Flatten)          (None, 15000)             0         \n",
            "_________________________________________________________________\n",
            "dense_70 (Dense)             (None, 128)               1920128   \n",
            "_________________________________________________________________\n",
            "activation_57 (Activation)   (None, 128)               0         \n",
            "_________________________________________________________________\n",
            "dense_71 (Dense)             (None, 256)               33024     \n",
            "_________________________________________________________________\n",
            "activation_58 (Activation)   (None, 256)               0         \n",
            "_________________________________________________________________\n",
            "dropout_19 (Dropout)         (None, 256)               0         \n",
            "_________________________________________________________________\n",
            "dense_72 (Dense)             (None, 512)               131584    \n",
            "_________________________________________________________________\n",
            "activation_59 (Activation)   (None, 512)               0         \n",
            "_________________________________________________________________\n",
            "dense_73 (Dense)             (None, 1024)              525312    \n",
            "_________________________________________________________________\n",
            "activation_60 (Activation)   (None, 1024)              0         \n",
            "_________________________________________________________________\n",
            "dense_74 (Dense)             (None, 512)               524800    \n",
            "_________________________________________________________________\n",
            "dropout_20 (Dropout)         (None, 512)               0         \n",
            "_________________________________________________________________\n",
            "activation_61 (Activation)   (None, 512)               0         \n",
            "_________________________________________________________________\n",
            "dense_75 (Dense)             (None, 108)               55404     \n",
            "_________________________________________________________________\n",
            "activation_62 (Activation)   (None, 108)               0         \n",
            "=================================================================\n",
            "Total params: 3,493,552\n",
            "Trainable params: 3,493,552\n",
            "Non-trainable params: 0\n",
            "_________________________________________________________________\n",
            "WARNING:tensorflow:From /usr/local/lib/python3.6/dist-packages/keras/backend/tensorflow_backend.py:1033: The name tf.assign_add is deprecated. Please use tf.compat.v1.assign_add instead.\n",
            "\n",
            "WARNING:tensorflow:From /usr/local/lib/python3.6/dist-packages/keras/backend/tensorflow_backend.py:1020: The name tf.assign is deprecated. Please use tf.compat.v1.assign instead.\n",
            "\n",
            "WARNING:tensorflow:From /usr/local/lib/python3.6/dist-packages/keras/backend/tensorflow_backend.py:3005: The name tf.Session is deprecated. Please use tf.compat.v1.Session instead.\n",
            "\n",
            "Train on 8307 samples, validate on 3561 samples\n",
            "Epoch 1/200\n",
            "WARNING:tensorflow:From /usr/local/lib/python3.6/dist-packages/keras/backend/tensorflow_backend.py:190: The name tf.get_default_session is deprecated. Please use tf.compat.v1.get_default_session instead.\n",
            "\n",
            "WARNING:tensorflow:From /usr/local/lib/python3.6/dist-packages/keras/backend/tensorflow_backend.py:197: The name tf.ConfigProto is deprecated. Please use tf.compat.v1.ConfigProto instead.\n",
            "\n",
            "WARNING:tensorflow:From /usr/local/lib/python3.6/dist-packages/keras/backend/tensorflow_backend.py:207: The name tf.global_variables is deprecated. Please use tf.compat.v1.global_variables instead.\n",
            "\n",
            "WARNING:tensorflow:From /usr/local/lib/python3.6/dist-packages/keras/backend/tensorflow_backend.py:216: The name tf.is_variable_initialized is deprecated. Please use tf.compat.v1.is_variable_initialized instead.\n",
            "\n",
            "WARNING:tensorflow:From /usr/local/lib/python3.6/dist-packages/keras/backend/tensorflow_backend.py:223: The name tf.variables_initializer is deprecated. Please use tf.compat.v1.variables_initializer instead.\n",
            "\n",
            "8307/8307 [==============================] - 1054s 127ms/step - loss: 4.6834 - acc: 0.0083 - val_loss: 4.6839 - val_acc: 0.0070\n",
            "Epoch 2/200\n",
            "8307/8307 [==============================] - 1019s 123ms/step - loss: 4.6823 - acc: 0.0090 - val_loss: 4.6852 - val_acc: 0.0070\n",
            "Epoch 3/200\n",
            "1890/8307 [=====>........................] - ETA: 11:43 - loss: 4.6817 - acc: 0.0095"
          ],
          "name": "stdout"
        }
      ]
    },
    {
      "cell_type": "code",
      "metadata": {
        "id": "9FkbeinrItBI",
        "colab_type": "code",
        "colab": {
          "base_uri": "https://localhost:8080/",
          "height": 163
        },
        "outputId": "a70b889e-f7ef-4696-ca9b-57a7cbfd3454"
      },
      "source": [
        "x_train.reshape(x_train.shape[0],None,1)"
      ],
      "execution_count": 36,
      "outputs": [
        {
          "output_type": "error",
          "ename": "TypeError",
          "evalue": "ignored",
          "traceback": [
            "\u001b[0;31m---------------------------------------------------------------------------\u001b[0m",
            "\u001b[0;31mTypeError\u001b[0m                                 Traceback (most recent call last)",
            "\u001b[0;32m<ipython-input-36-4622b25884bb>\u001b[0m in \u001b[0;36m<module>\u001b[0;34m()\u001b[0m\n\u001b[0;32m----> 1\u001b[0;31m \u001b[0mx_train\u001b[0m\u001b[0;34m.\u001b[0m\u001b[0mreshape\u001b[0m\u001b[0;34m(\u001b[0m\u001b[0mx_train\u001b[0m\u001b[0;34m.\u001b[0m\u001b[0mshape\u001b[0m\u001b[0;34m[\u001b[0m\u001b[0;36m0\u001b[0m\u001b[0;34m]\u001b[0m\u001b[0;34m,\u001b[0m\u001b[0;32mNone\u001b[0m\u001b[0;34m,\u001b[0m\u001b[0;36m1\u001b[0m\u001b[0;34m)\u001b[0m\u001b[0;34m\u001b[0m\u001b[0;34m\u001b[0m\u001b[0m\n\u001b[0m",
            "\u001b[0;31mTypeError\u001b[0m: 'NoneType' object cannot be interpreted as an integer"
          ]
        }
      ]
    },
    {
      "cell_type": "code",
      "metadata": {
        "id": "Ync3udqTUc8P",
        "colab_type": "code",
        "colab": {}
      },
      "source": [
        ""
      ],
      "execution_count": 0,
      "outputs": []
    }
  ]
}