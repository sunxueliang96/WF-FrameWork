{
  "nbformat": 4,
  "nbformat_minor": 0,
  "metadata": {
    "colab": {
      "name": "GAN-WF.ipynb",
      "provenance": [],
      "authorship_tag": "ABX9TyNk18in3K+NaAkRUw2cRfbN",
      "include_colab_link": true
    },
    "kernelspec": {
      "name": "python3",
      "display_name": "Python 3"
    },
    "accelerator": "GPU"
  },
  "cells": [
    {
      "cell_type": "markdown",
      "metadata": {
        "id": "view-in-github",
        "colab_type": "text"
      },
      "source": [
        "<a href=\"https://colab.research.google.com/github/sunxueliang96/WF-FrameWork/blob/master/GAN_WF.ipynb\" target=\"_parent\"><img src=\"https://colab.research.google.com/assets/colab-badge.svg\" alt=\"Open In Colab\"/></a>"
      ]
    },
    {
      "cell_type": "code",
      "metadata": {
        "id": "7zOo4nMCNJBL",
        "colab_type": "code",
        "colab": {
          "base_uri": "https://localhost:8080/",
          "height": 34
        },
        "outputId": "58ed206c-852e-4149-f339-6edf83ca9bb1"
      },
      "source": [
        "#Mount Google Drive as folder\n",
        "from google.colab import drive\n",
        "drive.mount('/content/drive', force_remount=True)\n"
      ],
      "execution_count": 0,
      "outputs": [
        {
          "output_type": "stream",
          "text": [
            "Mounted at /content/drive\n"
          ],
          "name": "stdout"
        }
      ]
    },
    {
      "cell_type": "code",
      "metadata": {
        "id": "m8S9_gbVNUzQ",
        "colab_type": "code",
        "colab": {
          "base_uri": "https://localhost:8080/",
          "height": 34
        },
        "outputId": "4f1321dc-7d3c-4040-ebc6-480629ecd933"
      },
      "source": [
        "cd /content/drive/'My Drive'/datasets/no_paded/close_world/knn"
      ],
      "execution_count": 0,
      "outputs": [
        {
          "output_type": "stream",
          "text": [
            "/content/drive/My Drive/datasets/no_paded/close_world/knn\n"
          ],
          "name": "stdout"
        }
      ]
    },
    {
      "cell_type": "code",
      "metadata": {
        "id": "WL3YF14SNWyA",
        "colab_type": "code",
        "colab": {
          "base_uri": "https://localhost:8080/",
          "height": 34
        },
        "outputId": "146b8e25-2a16-4f4b-9990-4b073e8f1e34"
      },
      "source": [
        "ls"
      ],
      "execution_count": 0,
      "outputs": [
        {
          "output_type": "stream",
          "text": [
            "X_knnbatch.pkl  y_knnbatch.pkl\n"
          ],
          "name": "stdout"
        }
      ]
    },
    {
      "cell_type": "code",
      "metadata": {
        "id": "vMVCStxdNZCn",
        "colab_type": "code",
        "colab": {
          "base_uri": "https://localhost:8080/",
          "height": 85
        },
        "outputId": "b9a577f1-f3f2-4049-eb7e-c1b3c7da8d8f"
      },
      "source": [
        "import pickle\n",
        "from collections import Counter\n",
        "import numpy as np\n",
        "with open ('X_knnbatch.pkl','rb') as handle:\n",
        "    X_train = np.array(pickle.load(handle,encoding='iso-8859-1'))\n",
        "with open ('y_knnbatch.pkl','rb') as handle:\n",
        "    y_train = np.array(pickle.load(handle,encoding='iso-8859-1'))\n",
        "\n",
        "maxlen = 2000\n",
        "NB_classes = len(Counter(y_train).keys())\n",
        "\n",
        "print('Number of samples :' , X_train.shape[0])\n",
        "print('Type of samples :' , NB_classes)\n",
        "print('Average sequence length: {}'.format(np.mean(list(map(len, X_train)), dtype=int)))\n",
        "print('maxlen setted as {}'.format(maxlen))"
      ],
      "execution_count": 0,
      "outputs": [
        {
          "output_type": "stream",
          "text": [
            "Number of samples : 9100\n",
            "Type of samples : 100\n",
            "Average sequence length: 1816\n",
            "maxlen setted as 2000\n"
          ],
          "name": "stdout"
        }
      ]
    },
    {
      "cell_type": "code",
      "metadata": {
        "id": "3VmagcmUJIJf",
        "colab_type": "code",
        "colab": {}
      },
      "source": [
        ""
      ],
      "execution_count": 0,
      "outputs": []
    },
    {
      "cell_type": "code",
      "metadata": {
        "id": "MdeIhdnVKjQw",
        "colab_type": "code",
        "colab": {
          "base_uri": "https://localhost:8080/",
          "height": 34
        },
        "outputId": "36813656-6af0-41d2-83d0-de7bf6c82232"
      },
      "source": [
        "type(X_train)"
      ],
      "execution_count": 0,
      "outputs": [
        {
          "output_type": "execute_result",
          "data": {
            "text/plain": [
              "numpy.ndarray"
            ]
          },
          "metadata": {
            "tags": []
          },
          "execution_count": 5
        }
      ]
    },
    {
      "cell_type": "code",
      "metadata": {
        "id": "yjWcFLBaGQzD",
        "colab_type": "code",
        "colab": {
          "base_uri": "https://localhost:8080/",
          "height": 80
        },
        "outputId": "56866af8-401d-4ea0-d1db-2a66c43b099a"
      },
      "source": [
        "from keras.preprocessing import sequence\n",
        "from keras.utils import np_utils\n",
        "X_train = sequence.pad_sequences(X_train,maxlen=maxlen,padding='post',truncating='post')\n",
        "y_train = np_utils.to_categorical(y_train, NB_classes)\n"
      ],
      "execution_count": 0,
      "outputs": [
        {
          "output_type": "stream",
          "text": [
            "Using TensorFlow backend.\n"
          ],
          "name": "stderr"
        },
        {
          "output_type": "display_data",
          "data": {
            "text/html": [
              "<p style=\"color: red;\">\n",
              "The default version of TensorFlow in Colab will soon switch to TensorFlow 2.x.<br>\n",
              "We recommend you <a href=\"https://www.tensorflow.org/guide/migrate\" target=\"_blank\">upgrade</a> now \n",
              "or ensure your notebook will continue to use TensorFlow 1.x via the <code>%tensorflow_version 1.x</code> magic:\n",
              "<a href=\"https://colab.research.google.com/notebooks/tensorflow_version.ipynb\" target=\"_blank\">more info</a>.</p>\n"
            ],
            "text/plain": [
              "<IPython.core.display.HTML object>"
            ]
          },
          "metadata": {
            "tags": []
          }
        }
      ]
    },
    {
      "cell_type": "code",
      "metadata": {
        "id": "F098S0MMr2ci",
        "colab_type": "code",
        "colab": {}
      },
      "source": [
        ""
      ],
      "execution_count": 0,
      "outputs": []
    },
    {
      "cell_type": "code",
      "metadata": {
        "id": "-j665KVtN4uV",
        "colab_type": "code",
        "colab": {}
      },
      "source": [
        ""
      ],
      "execution_count": 0,
      "outputs": []
    },
    {
      "cell_type": "code",
      "metadata": {
        "id": "QPB0wW-Mui49",
        "colab_type": "code",
        "colab": {}
      },
      "source": [
        "import numpy as np\n",
        "import pandas as pd\n",
        "import matplotlib.pyplot as plt\n",
        "%matplotlib inline\n",
        "import keras\n",
        "from keras.layers import Dense, Dropout, Input, Lambda, Concatenate\n",
        "from keras.models import Model,Sequential\n",
        "from keras.datasets import mnist\n",
        "from tqdm import tqdm\n",
        "from keras.layers.advanced_activations import LeakyReLU\n",
        "from keras.optimizers import Adam\n",
        "\n",
        "\n",
        "def adam_optimizer():\n",
        "    return Adam(lr=0.0002, beta_1=0.5)\n",
        "maxlen = 2000\n",
        "NB_split =100\n",
        "overhaed_rate = 10          #control overhead rate %\n",
        "\n",
        "NB_generator_output = int(maxlen*overhaed_rate/100/NB_split)"
      ],
      "execution_count": 0,
      "outputs": []
    },
    {
      "cell_type": "code",
      "metadata": {
        "id": "RMY8G0ggwahh",
        "colab_type": "code",
        "colab": {
          "base_uri": "https://localhost:8080/",
          "height": 187
        },
        "outputId": "728c5d3e-eb40-46d1-fbcc-bf417cc349dc"
      },
      "source": [
        "import tensorflow as tf\n",
        "from keras import backend as K\n",
        "from keras.layers import Activation\n",
        "from keras.utils.generic_utils import get_custom_objects\n",
        "\n",
        "\n",
        "def custom_activation(x):\n",
        "    return (K.sigmoid(x) * 2) - 1\n",
        "\n",
        "get_custom_objects().update({'custom_activation': Activation(custom_activation)})\n",
        "\n",
        "def create_generator():\n",
        "    inputs  = Input(shape=(maxlen,))\n",
        "    splits = Lambda(lambda x: tf.split(x, num_or_size_splits=NB_split, axis=1))(inputs)\n",
        "    branch_outputs = []\n",
        "    for i in range(NB_split):\n",
        "        x = Dense(1024, activation='relu')(splits[i])\n",
        "        outputs_noise = Dense(NB_generator_output, activation=custom_activation)(x)\n",
        "        outputs_noise = Lambda(lambda x: tf.math.divide_no_nan(x,tf.abs(x)))(outputs_noise)\n",
        "        outputs_concat = keras.layers.concatenate([splits[i], outputs_noise])\n",
        "        branch_outputs.append(outputs_concat)\n",
        "    out = Concatenate()(branch_outputs)\n",
        "    generator = Model(inputs=inputs, outputs=out)    \n",
        "    generator.compile(optimizer=keras.optimizers.Adam(lr=0.001), loss='categorical_crossentropy', metrics=['accuracy'])\n",
        "    return generator\n",
        "g=create_generator()\n",
        "#g.summary()"
      ],
      "execution_count": 0,
      "outputs": [
        {
          "output_type": "stream",
          "text": [
            "WARNING:tensorflow:From /usr/local/lib/python3.6/dist-packages/keras/backend/tensorflow_backend.py:66: The name tf.get_default_graph is deprecated. Please use tf.compat.v1.get_default_graph instead.\n",
            "\n",
            "WARNING:tensorflow:From /usr/local/lib/python3.6/dist-packages/keras/backend/tensorflow_backend.py:541: The name tf.placeholder is deprecated. Please use tf.compat.v1.placeholder instead.\n",
            "\n",
            "WARNING:tensorflow:From /usr/local/lib/python3.6/dist-packages/keras/backend/tensorflow_backend.py:4432: The name tf.random_uniform is deprecated. Please use tf.random.uniform instead.\n",
            "\n",
            "WARNING:tensorflow:From /usr/local/lib/python3.6/dist-packages/keras/optimizers.py:793: The name tf.train.Optimizer is deprecated. Please use tf.compat.v1.train.Optimizer instead.\n",
            "\n",
            "WARNING:tensorflow:From /usr/local/lib/python3.6/dist-packages/keras/backend/tensorflow_backend.py:3576: The name tf.log is deprecated. Please use tf.math.log instead.\n",
            "\n"
          ],
          "name": "stdout"
        }
      ]
    },
    {
      "cell_type": "code",
      "metadata": {
        "id": "xWN5iffGwgTA",
        "colab_type": "code",
        "colab": {}
      },
      "source": [
        "def create_discriminator(input_dim=maxlen+int(maxlen*overhaed_rate/100)):\n",
        "    discriminator=Sequential()\n",
        "    inputs = Input(shape=(input_dim,))\n",
        "    x = Dense(512, activation='relu')(inputs)\n",
        "    x = Dense(1024, activation='relu')(x)\n",
        "    x = Dense(512, activation='relu')(x)\n",
        "    x = Dense(128, activation='relu')(x)\n",
        "    outputs = Dense(units=NB_classes, activation='softmax')(x)\n",
        "    discriminator = Model(inputs=inputs,outputs=outputs)\n",
        "    discriminator.compile(loss='categorical_crossentropy', optimizer=adam_optimizer())\n",
        "    return discriminator\n",
        "d =create_discriminator()\n",
        "#d.summary()"
      ],
      "execution_count": 0,
      "outputs": []
    },
    {
      "cell_type": "code",
      "metadata": {
        "id": "vGuGBOkFwmPu",
        "colab_type": "code",
        "colab": {
          "base_uri": "https://localhost:8080/",
          "height": 306
        },
        "outputId": "094111ab-d070-4bbd-87c3-0f6ad3bd6537"
      },
      "source": [
        "def create_gan(discriminator, generator):\n",
        "    discriminator.trainable=False\n",
        "    gan_input = Input(shape=(maxlen,))\n",
        "    x = generator(gan_input)\n",
        "    gan_output= discriminator(x)\n",
        "    gan= Model(inputs=gan_input, outputs=gan_output)\n",
        "    gan.compile(loss='binary_crossentropy', optimizer='adam')\n",
        "    return gan\n",
        "gan = create_gan(d,g)\n",
        "gan.summary()"
      ],
      "execution_count": 0,
      "outputs": [
        {
          "output_type": "stream",
          "text": [
            "WARNING:tensorflow:From /usr/local/lib/python3.6/dist-packages/tensorflow_core/python/ops/nn_impl.py:183: where (from tensorflow.python.ops.array_ops) is deprecated and will be removed in a future version.\n",
            "Instructions for updating:\n",
            "Use tf.where in 2.0, which has the same broadcast rule as np.where\n",
            "Model: \"model_3\"\n",
            "_________________________________________________________________\n",
            "Layer (type)                 Output Shape              Param #   \n",
            "=================================================================\n",
            "input_3 (InputLayer)         (None, 2000)              0         \n",
            "_________________________________________________________________\n",
            "model_1 (Model)              (None, 2200)              2355400   \n",
            "_________________________________________________________________\n",
            "model_2 (Model)              (None, 100)               2255588   \n",
            "=================================================================\n",
            "Total params: 4,610,988\n",
            "Trainable params: 2,355,400\n",
            "Non-trainable params: 2,255,588\n",
            "_________________________________________________________________\n"
          ],
          "name": "stdout"
        }
      ]
    },
    {
      "cell_type": "code",
      "metadata": {
        "id": "2Qb2jCOB2jdX",
        "colab_type": "code",
        "colab": {}
      },
      "source": [
        "generator= create_generator()\n",
        "discriminator= create_discriminator()\n",
        "gan = create_gan(discriminator, generator)"
      ],
      "execution_count": 0,
      "outputs": []
    },
    {
      "cell_type": "code",
      "metadata": {
        "id": "HGCY6OrIxA8d",
        "colab_type": "code",
        "colab": {
          "base_uri": "https://localhost:8080/",
          "height": 1000
        },
        "outputId": "b4207d61-0645-4e3f-f162-21b2df0a0184"
      },
      "source": [
        "from tqdm import tqdm\n",
        "dis_loss = []\n",
        "gan_loss = []\n",
        "\n",
        "def training(NB_epochs=100, batch_size=128):\n",
        "    batch_count = X_train.shape[0] / batch_size\n",
        "    print('Number of batches {}'.format(batch_count))\n",
        "\n",
        "    #valid = np.ones((batch_size, 1))  # real is 111111111111111111111111\n",
        "    #fake = np.ones((batch_size, NB_classes))  # fake is 00000000000000000000000000\n",
        "    fake = []\n",
        "\n",
        "    for i in range(batch_size):\n",
        "        fake.append(y_train[0])\n",
        "    fake = np.array(fake) \n",
        "\n",
        "    for epoch in tqdm(range(NB_epochs)):\n",
        "        #  Train Discriminator\n",
        "        idx = np.random.randint(0, X_train.shape[0], batch_size)        # Select a random batch of sequences\n",
        "        seqs = X_train[idx]\n",
        "        y = y_train[idx]\n",
        "\n",
        "        discriminator.trainable=True\n",
        "        gen_seqs = generator.predict(seqs)    #  Generate a batch of new seqs\n",
        "        seqs = sequence.pad_sequences(seqs,maxlen=2200,padding='post',truncating='post')\n",
        "        d_loss_real = discriminator.train_on_batch(seqs,y)\n",
        "        d_loss_fake = discriminator.train_on_batch(gen_seqs,fake)\n",
        "        d_loss = 0.5*np.add(d_loss_real,d_loss_fake)\n",
        "        dis_loss.append(d_loss_real)\n",
        "\n",
        "        #  Train Generator\n",
        "        seqs = sequence.pad_sequences(seqs,maxlen=2000,padding='post',truncating='post')\n",
        "        discriminator.trainable=False\n",
        "        g_loss = gan.train_on_batch(seqs,fake)\n",
        "        gan_loss.append(g_loss)\n",
        "\n",
        "        print ('dis:{}gan{}'.format(d_loss_real,g_loss))\n",
        "        #print (\"%d [D loss: %f, acc.: %.2f%%] [G loss: %f]\" % (epoch, d_loss[0], 100*d_loss[1], g_loss))\n",
        "training()\n"
      ],
      "execution_count": 13,
      "outputs": [
        {
          "output_type": "stream",
          "text": [
            "\r  0%|          | 0/100 [00:00<?, ?it/s]"
          ],
          "name": "stderr"
        },
        {
          "output_type": "stream",
          "text": [
            "Number of batches 71.09375\n"
          ],
          "name": "stdout"
        },
        {
          "output_type": "stream",
          "text": [
            "\r  1%|          | 1/100 [00:31<52:45, 31.98s/it]"
          ],
          "name": "stderr"
        },
        {
          "output_type": "stream",
          "text": [
            "dis:4.613681316375732gan0.047684960067272186\n"
          ],
          "name": "stdout"
        },
        {
          "output_type": "stream",
          "text": [
            "\r  2%|▏         | 2/100 [00:32<36:40, 22.46s/it]"
          ],
          "name": "stderr"
        },
        {
          "output_type": "stream",
          "text": [
            "dis:4.618084907531738gan0.0323467031121254\n"
          ],
          "name": "stdout"
        },
        {
          "output_type": "stream",
          "text": [
            "\r  3%|▎         | 3/100 [00:32<25:31, 15.79s/it]"
          ],
          "name": "stderr"
        },
        {
          "output_type": "stream",
          "text": [
            "dis:4.699291229248047gan0.020754581317305565\n"
          ],
          "name": "stdout"
        },
        {
          "output_type": "stream",
          "text": [
            "\r  4%|▍         | 4/100 [00:32<17:47, 11.12s/it]"
          ],
          "name": "stderr"
        },
        {
          "output_type": "stream",
          "text": [
            "dis:5.21549129486084gan0.01877240277826786\n"
          ],
          "name": "stdout"
        },
        {
          "output_type": "stream",
          "text": [
            "  6%|▌         | 6/100 [00:33<08:41,  5.55s/it]"
          ],
          "name": "stderr"
        },
        {
          "output_type": "stream",
          "text": [
            "dis:5.040294647216797gan0.017735160887241364\n",
            "dis:4.865670680999756gan0.01440260000526905\n"
          ],
          "name": "stdout"
        },
        {
          "output_type": "stream",
          "text": [
            "  8%|▊         | 8/100 [00:33<04:19,  2.82s/it]"
          ],
          "name": "stderr"
        },
        {
          "output_type": "stream",
          "text": [
            "dis:4.796628475189209gan0.011260561645030975\n",
            "dis:4.822727203369141gan0.009535149671137333\n"
          ],
          "name": "stdout"
        },
        {
          "output_type": "stream",
          "text": [
            " 10%|█         | 10/100 [00:33<02:13,  1.48s/it]"
          ],
          "name": "stderr"
        },
        {
          "output_type": "stream",
          "text": [
            "dis:4.6048431396484375gan0.008611747995018959\n",
            "dis:4.663389205932617gan0.006970388814806938\n"
          ],
          "name": "stdout"
        },
        {
          "output_type": "stream",
          "text": [
            "\r 11%|█         | 11/100 [00:34<01:37,  1.10s/it]"
          ],
          "name": "stderr"
        },
        {
          "output_type": "stream",
          "text": [
            "dis:4.599669933319092gan0.0065146442502737045\n"
          ],
          "name": "stdout"
        },
        {
          "output_type": "stream",
          "text": [
            " 13%|█▎        | 13/100 [00:34<00:55,  1.55it/s]"
          ],
          "name": "stderr"
        },
        {
          "output_type": "stream",
          "text": [
            "dis:4.589811325073242gan0.00490023335441947\n",
            "dis:4.627586841583252gan0.0025502038188278675\n"
          ],
          "name": "stdout"
        },
        {
          "output_type": "stream",
          "text": [
            " 15%|█▌        | 15/100 [00:34<00:35,  2.40it/s]"
          ],
          "name": "stderr"
        },
        {
          "output_type": "stream",
          "text": [
            "dis:4.509557723999023gan0.004466797225177288\n",
            "dis:4.493618965148926gan0.0030398890376091003\n"
          ],
          "name": "stdout"
        },
        {
          "output_type": "stream",
          "text": [
            "\r 16%|█▌        | 16/100 [00:35<00:29,  2.84it/s]"
          ],
          "name": "stderr"
        },
        {
          "output_type": "stream",
          "text": [
            "dis:4.400836944580078gan0.0028260336257517338\n"
          ],
          "name": "stdout"
        },
        {
          "output_type": "stream",
          "text": [
            " 18%|█▊        | 18/100 [00:35<00:22,  3.62it/s]"
          ],
          "name": "stderr"
        },
        {
          "output_type": "stream",
          "text": [
            "dis:4.410017490386963gan0.0016691468190401793\n",
            "dis:4.290633678436279gan0.001172479591332376\n"
          ],
          "name": "stdout"
        },
        {
          "output_type": "stream",
          "text": [
            " 20%|██        | 20/100 [00:35<00:18,  4.22it/s]"
          ],
          "name": "stderr"
        },
        {
          "output_type": "stream",
          "text": [
            "dis:4.3093342781066895gan0.0010965954279527068\n",
            "dis:4.254695415496826gan0.0007475826423615217\n"
          ],
          "name": "stdout"
        },
        {
          "output_type": "stream",
          "text": [
            "\r 21%|██        | 21/100 [00:36<00:17,  4.42it/s]"
          ],
          "name": "stderr"
        },
        {
          "output_type": "stream",
          "text": [
            "dis:4.165187835693359gan0.0008722302736714482\n",
            "dis:4.195786476135254gan0.0005567354965023696"
          ],
          "name": "stdout"
        },
        {
          "output_type": "stream",
          "text": [
            "\r 22%|██▏       | 22/100 [00:36<00:17,  4.57it/s]"
          ],
          "name": "stderr"
        },
        {
          "output_type": "stream",
          "text": [
            "\n"
          ],
          "name": "stdout"
        },
        {
          "output_type": "stream",
          "text": [
            " 24%|██▍       | 24/100 [00:36<00:15,  4.77it/s]"
          ],
          "name": "stderr"
        },
        {
          "output_type": "stream",
          "text": [
            "dis:4.062159538269043gan0.0004315227270126343\n",
            "dis:4.118399620056152gan0.0005367862177081406\n"
          ],
          "name": "stdout"
        },
        {
          "output_type": "stream",
          "text": [
            " 26%|██▌       | 26/100 [00:37<00:15,  4.92it/s]"
          ],
          "name": "stderr"
        },
        {
          "output_type": "stream",
          "text": [
            "dis:3.9852709770202637gan0.00038082210812717676\n",
            "dis:3.8350918292999268gan0.00019013606652151793\n"
          ],
          "name": "stdout"
        },
        {
          "output_type": "stream",
          "text": [
            "\r 27%|██▋       | 27/100 [00:37<00:14,  4.96it/s]"
          ],
          "name": "stderr"
        },
        {
          "output_type": "stream",
          "text": [
            "dis:4.043566703796387gan0.0003592548309825361\n"
          ],
          "name": "stdout"
        },
        {
          "output_type": "stream",
          "text": [
            " 29%|██▉       | 29/100 [00:37<00:14,  4.98it/s]"
          ],
          "name": "stderr"
        },
        {
          "output_type": "stream",
          "text": [
            "dis:3.96260929107666gan0.0002659129386302084\n",
            "dis:3.913217782974243gan0.0002741144271567464\n"
          ],
          "name": "stdout"
        },
        {
          "output_type": "stream",
          "text": [
            "\r 30%|███       | 30/100 [00:37<00:14,  5.00it/s]"
          ],
          "name": "stderr"
        },
        {
          "output_type": "stream",
          "text": [
            "dis:3.953514814376831gan0.00021723714598920196\n"
          ],
          "name": "stdout"
        },
        {
          "output_type": "stream",
          "text": [
            " 32%|███▏      | 32/100 [00:38<00:13,  4.97it/s]"
          ],
          "name": "stderr"
        },
        {
          "output_type": "stream",
          "text": [
            "dis:3.7156405448913574gan0.0002139120188076049\n",
            "dis:3.5678348541259766gan0.00019993889145553112\n"
          ],
          "name": "stdout"
        },
        {
          "output_type": "stream",
          "text": [
            " 34%|███▍      | 34/100 [00:38<00:13,  5.00it/s]"
          ],
          "name": "stderr"
        },
        {
          "output_type": "stream",
          "text": [
            "dis:3.8402106761932373gan0.00010398229642305523\n",
            "dis:3.7844455242156982gan0.000276515114819631\n"
          ],
          "name": "stdout"
        },
        {
          "output_type": "stream",
          "text": [
            "\r 35%|███▌      | 35/100 [00:38<00:12,  5.01it/s]"
          ],
          "name": "stderr"
        },
        {
          "output_type": "stream",
          "text": [
            "dis:3.599745988845825gan0.0002176716225221753\n"
          ],
          "name": "stdout"
        },
        {
          "output_type": "stream",
          "text": [
            " 37%|███▋      | 37/100 [00:39<00:12,  4.99it/s]"
          ],
          "name": "stderr"
        },
        {
          "output_type": "stream",
          "text": [
            "dis:3.4881591796875gan0.0001457422913517803\n",
            "dis:3.5330727100372314gan9.865459287539124e-05\n"
          ],
          "name": "stdout"
        },
        {
          "output_type": "stream",
          "text": [
            "\r 38%|███▊      | 38/100 [00:39<00:12,  4.95it/s]"
          ],
          "name": "stderr"
        },
        {
          "output_type": "stream",
          "text": [
            "dis:3.421232223510742gan0.00017719439347274601\n"
          ],
          "name": "stdout"
        },
        {
          "output_type": "stream",
          "text": [
            "\r 39%|███▉      | 39/100 [00:39<00:12,  4.95it/s]"
          ],
          "name": "stderr"
        },
        {
          "output_type": "stream",
          "text": [
            "dis:3.432452917098999gan8.027258445508778e-05\n",
            "dis:3.483701229095459gan0.0001879442424979061"
          ],
          "name": "stdout"
        },
        {
          "output_type": "stream",
          "text": [
            " 41%|████      | 41/100 [00:40<00:11,  4.96it/s]"
          ],
          "name": "stderr"
        },
        {
          "output_type": "stream",
          "text": [
            "\n",
            "dis:3.4442124366760254gan0.00012538126611616462\n"
          ],
          "name": "stdout"
        },
        {
          "output_type": "stream",
          "text": [
            "\r 42%|████▏     | 42/100 [00:40<00:11,  4.88it/s]"
          ],
          "name": "stderr"
        },
        {
          "output_type": "stream",
          "text": [
            "dis:3.406142234802246gan0.00021033853408880532\n"
          ],
          "name": "stdout"
        },
        {
          "output_type": "stream",
          "text": [
            " 44%|████▍     | 44/100 [00:40<00:11,  4.90it/s]"
          ],
          "name": "stderr"
        },
        {
          "output_type": "stream",
          "text": [
            "dis:3.264317512512207gan4.861104389419779e-05\n",
            "dis:3.1876957416534424gan0.00036389229353517294\n"
          ],
          "name": "stdout"
        },
        {
          "output_type": "stream",
          "text": [
            " 46%|████▌     | 46/100 [00:41<00:10,  4.96it/s]"
          ],
          "name": "stderr"
        },
        {
          "output_type": "stream",
          "text": [
            "dis:3.16664457321167gan0.00012163860083092004\n",
            "dis:3.083641290664673gan7.571915193693712e-05\n"
          ],
          "name": "stdout"
        },
        {
          "output_type": "stream",
          "text": [
            "\r 47%|████▋     | 47/100 [00:41<00:10,  4.95it/s]"
          ],
          "name": "stderr"
        },
        {
          "output_type": "stream",
          "text": [
            "dis:2.9631876945495605gan0.00011059778626076877\n"
          ],
          "name": "stdout"
        },
        {
          "output_type": "stream",
          "text": [
            " 49%|████▉     | 49/100 [00:41<00:10,  4.96it/s]"
          ],
          "name": "stderr"
        },
        {
          "output_type": "stream",
          "text": [
            "dis:3.1479480266571045gan0.00010795649723149836\n",
            "dis:3.0344693660736084gan0.00021750348969362676\n"
          ],
          "name": "stdout"
        },
        {
          "output_type": "stream",
          "text": [
            " 51%|█████     | 51/100 [00:42<00:09,  4.98it/s]"
          ],
          "name": "stderr"
        },
        {
          "output_type": "stream",
          "text": [
            "dis:3.008528470993042gan0.00016139016952365637\n",
            "dis:2.913473606109619gan5.905445868847892e-05\n"
          ],
          "name": "stdout"
        },
        {
          "output_type": "stream",
          "text": [
            "\r 52%|█████▏    | 52/100 [00:42<00:09,  5.01it/s]"
          ],
          "name": "stderr"
        },
        {
          "output_type": "stream",
          "text": [
            "dis:2.6696107387542725gan0.00016440388571936637\n"
          ],
          "name": "stdout"
        },
        {
          "output_type": "stream",
          "text": [
            " 54%|█████▍    | 54/100 [00:42<00:09,  4.96it/s]"
          ],
          "name": "stderr"
        },
        {
          "output_type": "stream",
          "text": [
            "dis:3.135138750076294gan5.338374830898829e-05\n",
            "dis:2.8550052642822266gan0.0005406500422395766\n"
          ],
          "name": "stdout"
        },
        {
          "output_type": "stream",
          "text": [
            " 56%|█████▌    | 56/100 [00:43<00:08,  5.02it/s]"
          ],
          "name": "stderr"
        },
        {
          "output_type": "stream",
          "text": [
            "dis:2.983823537826538gan8.069118484854698e-05\n",
            "dis:3.0030159950256348gan0.00016267731552943587\n"
          ],
          "name": "stdout"
        },
        {
          "output_type": "stream",
          "text": [
            "\r 57%|█████▋    | 57/100 [00:43<00:08,  5.03it/s]"
          ],
          "name": "stderr"
        },
        {
          "output_type": "stream",
          "text": [
            "dis:2.905364990234375gan0.000268078176304698\n"
          ],
          "name": "stdout"
        },
        {
          "output_type": "stream",
          "text": [
            " 59%|█████▉    | 59/100 [00:43<00:08,  4.98it/s]"
          ],
          "name": "stderr"
        },
        {
          "output_type": "stream",
          "text": [
            "dis:3.031278610229492gan7.903217920102179e-05\n",
            "dis:2.5596916675567627gan0.00015295120829250664\n"
          ],
          "name": "stdout"
        },
        {
          "output_type": "stream",
          "text": [
            " 61%|██████    | 61/100 [00:44<00:07,  5.02it/s]"
          ],
          "name": "stderr"
        },
        {
          "output_type": "stream",
          "text": [
            "dis:2.571748733520508gan0.00015556791913695633\n",
            "dis:2.542037010192871gan2.774846325337421e-05\n"
          ],
          "name": "stdout"
        },
        {
          "output_type": "stream",
          "text": [
            "\r 62%|██████▏   | 62/100 [00:44<00:07,  5.03it/s]"
          ],
          "name": "stderr"
        },
        {
          "output_type": "stream",
          "text": [
            "dis:2.2486724853515625gan0.000526704709045589\n"
          ],
          "name": "stdout"
        },
        {
          "output_type": "stream",
          "text": [
            " 64%|██████▍   | 64/100 [00:44<00:07,  4.97it/s]"
          ],
          "name": "stderr"
        },
        {
          "output_type": "stream",
          "text": [
            "dis:2.5853586196899414gan1.478213926020544e-05\n",
            "dis:2.908485174179077gan0.0004255800158716738\n"
          ],
          "name": "stdout"
        },
        {
          "output_type": "stream",
          "text": [
            " 66%|██████▌   | 66/100 [00:45<00:06,  5.02it/s]"
          ],
          "name": "stderr"
        },
        {
          "output_type": "stream",
          "text": [
            "dis:3.222407341003418gan0.00011601904407143593\n",
            "dis:2.4480769634246826gan3.3152442483697087e-05\n"
          ],
          "name": "stdout"
        },
        {
          "output_type": "stream",
          "text": [
            "\r 67%|██████▋   | 67/100 [00:45<00:06,  5.02it/s]"
          ],
          "name": "stderr"
        },
        {
          "output_type": "stream",
          "text": [
            "dis:2.403385877609253gan2.6030706067103893e-05\n"
          ],
          "name": "stdout"
        },
        {
          "output_type": "stream",
          "text": [
            " 69%|██████▉   | 69/100 [00:45<00:06,  4.97it/s]"
          ],
          "name": "stderr"
        },
        {
          "output_type": "stream",
          "text": [
            "dis:2.2168076038360596gan4.876336970482953e-05\n",
            "dis:2.301185369491577gan9.315006900578737e-05\n"
          ],
          "name": "stdout"
        },
        {
          "output_type": "stream",
          "text": [
            "\r 70%|███████   | 70/100 [00:45<00:06,  4.99it/s]"
          ],
          "name": "stderr"
        },
        {
          "output_type": "stream",
          "text": [
            "dis:2.370777130126953gan7.878668839111924e-05\n"
          ],
          "name": "stdout"
        },
        {
          "output_type": "stream",
          "text": [
            " 72%|███████▏  | 72/100 [00:46<00:05,  4.99it/s]"
          ],
          "name": "stderr"
        },
        {
          "output_type": "stream",
          "text": [
            "dis:2.73085355758667gan9.097693691728637e-05\n",
            "dis:2.125412940979004gan0.00011212808749405667\n"
          ],
          "name": "stdout"
        },
        {
          "output_type": "stream",
          "text": [
            "\r 73%|███████▎  | 73/100 [00:46<00:05,  5.00it/s]"
          ],
          "name": "stderr"
        },
        {
          "output_type": "stream",
          "text": [
            "dis:2.032968044281006gan8.466810686513782e-05\n"
          ],
          "name": "stdout"
        },
        {
          "output_type": "stream",
          "text": [
            " 75%|███████▌  | 75/100 [00:46<00:05,  4.97it/s]"
          ],
          "name": "stderr"
        },
        {
          "output_type": "stream",
          "text": [
            "dis:2.4684598445892334gan4.957078999723308e-05\n",
            "dis:2.2783870697021484gan0.00036183971678838134\n"
          ],
          "name": "stdout"
        },
        {
          "output_type": "stream",
          "text": [
            " 77%|███████▋  | 77/100 [00:47<00:04,  5.00it/s]"
          ],
          "name": "stderr"
        },
        {
          "output_type": "stream",
          "text": [
            "dis:2.1052448749542236gan5.5816730309743434e-05\n",
            "dis:2.1975646018981934gan7.220632687676698e-05\n"
          ],
          "name": "stdout"
        },
        {
          "output_type": "stream",
          "text": [
            " 79%|███████▉  | 79/100 [00:47<00:04,  5.01it/s]"
          ],
          "name": "stderr"
        },
        {
          "output_type": "stream",
          "text": [
            "dis:1.9782391786575317gan3.8939688238315284e-05\n",
            "dis:2.1936087608337402gan2.6389519916847348e-05\n"
          ],
          "name": "stdout"
        },
        {
          "output_type": "stream",
          "text": [
            " 81%|████████  | 81/100 [00:48<00:03,  5.03it/s]"
          ],
          "name": "stderr"
        },
        {
          "output_type": "stream",
          "text": [
            "dis:2.2665886878967285gan0.00018627385725267231\n",
            "dis:2.322397470474243gan4.193027052679099e-05\n"
          ],
          "name": "stdout"
        },
        {
          "output_type": "stream",
          "text": [
            " 83%|████████▎ | 83/100 [00:48<00:03,  5.05it/s]"
          ],
          "name": "stderr"
        },
        {
          "output_type": "stream",
          "text": [
            "dis:1.953582525253296gan2.782513911370188e-05\n",
            "dis:1.7451226711273193gan2.2512158466270193e-05\n"
          ],
          "name": "stdout"
        },
        {
          "output_type": "stream",
          "text": [
            "\r 84%|████████▍ | 84/100 [00:48<00:03,  4.97it/s]"
          ],
          "name": "stderr"
        },
        {
          "output_type": "stream",
          "text": [
            "dis:1.925323724746704gan1.8126744180335663e-05\n"
          ],
          "name": "stdout"
        },
        {
          "output_type": "stream",
          "text": [
            "\r 85%|████████▌ | 85/100 [00:48<00:03,  4.95it/s]"
          ],
          "name": "stderr"
        },
        {
          "output_type": "stream",
          "text": [
            "dis:2.2534680366516113gan2.2198855731403455e-05\n"
          ],
          "name": "stdout"
        },
        {
          "output_type": "stream",
          "text": [
            "\r 86%|████████▌ | 86/100 [00:49<00:02,  4.95it/s]"
          ],
          "name": "stderr"
        },
        {
          "output_type": "stream",
          "text": [
            "dis:2.386803388595581gan7.850514521123841e-06\n",
            "dis:3.871795654296875gan0.006777279544621706\n"
          ],
          "name": "stdout"
        },
        {
          "output_type": "stream",
          "text": [
            " 88%|████████▊ | 88/100 [00:49<00:02,  4.98it/s]"
          ],
          "name": "stderr"
        },
        {
          "output_type": "stream",
          "text": [
            "dis:2.7650909423828125gan3.48975918313954e-05\n"
          ],
          "name": "stdout"
        },
        {
          "output_type": "stream",
          "text": [
            "\r 89%|████████▉ | 89/100 [00:49<00:02,  4.97it/s]"
          ],
          "name": "stderr"
        },
        {
          "output_type": "stream",
          "text": [
            "dis:2.821110725402832gan6.950435636099428e-05\n"
          ],
          "name": "stdout"
        },
        {
          "output_type": "stream",
          "text": [
            "\r 90%|█████████ | 90/100 [00:49<00:02,  4.94it/s]"
          ],
          "name": "stderr"
        },
        {
          "output_type": "stream",
          "text": [
            "dis:2.7858939170837402gan0.0001151590040535666\n",
            "dis:2.5664072036743164gan3.795553129748441e-05\n"
          ],
          "name": "stdout"
        },
        {
          "output_type": "stream",
          "text": [
            " 93%|█████████▎| 93/100 [00:50<00:01,  4.98it/s]"
          ],
          "name": "stderr"
        },
        {
          "output_type": "stream",
          "text": [
            "dis:2.386777400970459gan8.858628279995173e-05\n",
            "dis:2.439995527267456gan6.353063508868217e-05\n"
          ],
          "name": "stdout"
        },
        {
          "output_type": "stream",
          "text": [
            " 95%|█████████▌| 95/100 [00:50<00:01,  4.95it/s]"
          ],
          "name": "stderr"
        },
        {
          "output_type": "stream",
          "text": [
            "dis:2.2631077766418457gan0.0001024220182443969\n",
            "dis:2.1394927501678467gan9.161369962384924e-05\n"
          ],
          "name": "stdout"
        },
        {
          "output_type": "stream",
          "text": [
            " 97%|█████████▋| 97/100 [00:51<00:00,  5.00it/s]"
          ],
          "name": "stderr"
        },
        {
          "output_type": "stream",
          "text": [
            "dis:1.9887759685516357gan5.761511420132592e-05\n",
            "dis:2.29213285446167gan5.912046253797598e-05\n"
          ],
          "name": "stdout"
        },
        {
          "output_type": "stream",
          "text": [
            " 99%|█████████▉| 99/100 [00:51<00:00,  4.99it/s]"
          ],
          "name": "stderr"
        },
        {
          "output_type": "stream",
          "text": [
            "dis:1.7641875743865967gan1.9095146853942424e-05\n",
            "dis:1.8530948162078857gan2.9476615964085795e-05\n"
          ],
          "name": "stdout"
        },
        {
          "output_type": "stream",
          "text": [
            "\r100%|██████████| 100/100 [00:51<00:00,  4.96it/s]"
          ],
          "name": "stderr"
        },
        {
          "output_type": "stream",
          "text": [
            "dis:1.8062984943389893gan5.7789577112998813e-05\n"
          ],
          "name": "stdout"
        },
        {
          "output_type": "stream",
          "text": [
            "\n"
          ],
          "name": "stderr"
        }
      ]
    },
    {
      "cell_type": "code",
      "metadata": {
        "id": "jG8D8VzGH0E1",
        "colab_type": "code",
        "colab": {
          "base_uri": "https://localhost:8080/",
          "height": 282
        },
        "outputId": "73d7cc11-285d-4d7e-ab4d-938ece37c560"
      },
      "source": [
        "import matplotlib.pyplot as plt\n",
        "\n",
        "plt.plot(dis_loss)\n"
      ],
      "execution_count": 14,
      "outputs": [
        {
          "output_type": "execute_result",
          "data": {
            "text/plain": [
              "[<matplotlib.lines.Line2D at 0x7fb0af68eba8>]"
            ]
          },
          "metadata": {
            "tags": []
          },
          "execution_count": 14
        },
        {
          "output_type": "display_data",
          "data": {
            "image/png": "[encoded data removed]",
            "text/plain": [
              "<Figure size 432x288 with 1 Axes>"
            ]
          },
          "metadata": {
            "tags": []
          }
        }
      ]
    },
    {
      "cell_type": "code",
      "metadata": {
        "id": "fUgVb47XQh6_",
        "colab_type": "code",
        "colab": {
          "base_uri": "https://localhost:8080/",
          "height": 286
        },
        "outputId": "2a1bd08f-8b1d-4af0-9997-32b77369a39a"
      },
      "source": [
        "plt.plot(gan_loss)"
      ],
      "execution_count": 15,
      "outputs": [
        {
          "output_type": "execute_result",
          "data": {
            "text/plain": [
              "[<matplotlib.lines.Line2D at 0x7fb0af536a20>]"
            ]
          },
          "metadata": {
            "tags": []
          },
          "execution_count": 15
        },
        {
          "output_type": "display_data",
          "data": {
            "image/png": "[encoded data removed]",
            "text/plain": [
              "<Figure size 432x288 with 1 Axes>"
            ]
          },
          "metadata": {
            "tags": []
          }
        }
      ]
    },
    {
      "cell_type": "code",
      "metadata": {
        "id": "k8sjfYGtU-22",
        "colab_type": "code",
        "colab": {}
      },
      "source": [
        ""
      ],
      "execution_count": 0,
      "outputs": []
    },
    {
      "cell_type": "code",
      "metadata": {
        "id": "INpt7N4Za_4F",
        "colab_type": "code",
        "colab": {}
      },
      "source": [
        "y_train[0]"
      ],
      "execution_count": 0,
      "outputs": []
    },
    {
      "cell_type": "code",
      "metadata": {
        "id": "oJCdNUidbCOb",
        "colab_type": "code",
        "colab": {}
      },
      "source": [
        "import numpy as np\n",
        "fake = np.ones((128, NB_classes))  # fake is 0000"
      ],
      "execution_count": 0,
      "outputs": []
    },
    {
      "cell_type": "code",
      "metadata": {
        "id": "yG-IKlAarSyz",
        "colab_type": "code",
        "colab": {}
      },
      "source": [
        "y"
      ],
      "execution_count": 0,
      "outputs": []
    },
    {
      "cell_type": "code",
      "metadata": {
        "id": "tQCas2P3rTeR",
        "colab_type": "code",
        "colab": {}
      },
      "source": [
        ""
      ],
      "execution_count": 0,
      "outputs": []
    }
  ]
}